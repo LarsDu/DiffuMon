{
 "cells": [
  {
   "cell_type": "markdown",
   "metadata": {},
   "source": [
    "# Diffumon\n",
    "**A Denoising Diffusion Probabilistic Model (DDPM) for Image Generation**\n",
    "\n",
    "This notebook demonstrates checkpoint loading and sample generation."
   ]
  },
  {
   "cell_type": "code",
   "execution_count": 1,
   "metadata": {},
   "outputs": [],
   "source": [
    "%load_ext autoreload\n",
    "%autoreload 2"
   ]
  },
  {
   "cell_type": "code",
   "execution_count": 2,
   "metadata": {},
   "outputs": [],
   "source": [
    "# Imports\n",
    "import os\n",
    "import torch\n",
    "from diffumon.diffusion.sampler import p_sampler_to_images\n",
    "from diffumon.utils import get_device\n",
    "from diffumon.models.unet import Unet\n",
    "from PIL.Image import Image as PILImage\n",
    "import pickle\n",
    "\n",
    "from diffumon.metrics.plots import combine_images"
   ]
  },
  {
   "cell_type": "code",
   "execution_count": 3,
   "metadata": {},
   "outputs": [
    {
     "name": "stdout",
     "output_type": "stream",
     "text": [
      "Using device: cuda\n"
     ]
    }
   ],
   "source": [
    "num_samples = 32\n",
    "checkpoint_path = \"../checkpoints/fashion_mnist_100_epochs.pth\"\n",
    "device = get_device()"
   ]
  },
  {
   "cell_type": "code",
   "execution_count": 4,
   "metadata": {},
   "outputs": [
    {
     "name": "stdout",
     "output_type": "stream",
     "text": [
      "Loading trained model from ../checkpoints/fashion_mnist_100_epochs.pth...\n",
      "Model loaded.\n"
     ]
    },
    {
     "name": "stderr",
     "output_type": "stream",
     "text": [
      "/tmp/ipykernel_864754/1482776095.py:4: FutureWarning: You are using `torch.load` with `weights_only=False` (the current default value), which uses the default pickle module implicitly. It is possible to construct malicious pickle data which will execute arbitrary code during unpickling (See https://github.com/pytorch/pytorch/blob/main/SECURITY.md#untrusted-models for more details). In a future release, the default value for `weights_only` will be flipped to `True`. This limits the functions that could be executed during unpickling. Arbitrary objects will no longer be allowed to be loaded via this mode unless they are explicitly allowlisted by the user via `torch.serialization.add_safe_globals`. We recommend you start setting `weights_only=True` for any use case where you don't have full control of the loaded file. Please open an issue on GitHub for any issues related to this experimental feature.\n",
      "  checkpoint = torch.load(f)\n"
     ]
    }
   ],
   "source": [
    "# Load the trained model\n",
    "print(f\"Loading trained model from {checkpoint_path}...\")\n",
    "with open(checkpoint_path, \"rb\") as f:\n",
    "    checkpoint = torch.load(f)\n",
    "    img_dim = checkpoint.get(\"img_dim\", (1, 28, 28))  # FIXME: unhardcode later\n",
    "    num_channels = img_dim[0]\n",
    "    chw_dim = img_dim[1:]\n",
    "\n",
    "noise_schedule = pickle.loads(checkpoint[\"noise_schedule\"])\n",
    "\n",
    "model = Unet(\n",
    "    dim=chw_dim[1],\n",
    "    num_channels=num_channels,\n",
    ")\n",
    "model.load_state_dict(checkpoint[\"model_state_dict\"])\n",
    "model.to(device)\n",
    "noise_schedule.to(device)\n",
    "print(\"Model loaded.\")"
   ]
  },
  {
   "cell_type": "code",
   "execution_count": 5,
   "metadata": {},
   "outputs": [
    {
     "name": "stdout",
     "output_type": "stream",
     "text": [
      "Generating samples...\n"
     ]
    }
   ],
   "source": [
    "# Generate samples\n",
    "print(\"Generating samples...\")\n",
    "samples: list[PILImage] = p_sampler_to_images(\n",
    "    model=model,\n",
    "    ns=noise_schedule,\n",
    "    num_samples=num_samples,\n",
    "    dims=img_dim,\n",
    "    seed=2048,\n",
    "    output_dir=None,\n",
    "    device=device,\n",
    ")"
   ]
  },
  {
   "cell_type": "code",
   "execution_count": 6,
   "metadata": {},
   "outputs": [],
   "source": [
    "combined = combine_images(samples, rows=4, cols=8)\n",
    "\n",
    "# Plot the combined image and display"
   ]
  },
  {
   "cell_type": "code",
   "execution_count": null,
   "metadata": {},
   "outputs": [],
   "source": []
  }
 ],
 "metadata": {
  "kernelspec": {
   "display_name": "Python Diffumon",
   "language": "python",
   "name": "diffumon"
  },
  "language_info": {
   "codemirror_mode": {
    "name": "ipython",
    "version": 3
   },
   "file_extension": ".py",
   "mimetype": "text/x-python",
   "name": "python",
   "nbconvert_exporter": "python",
   "pygments_lexer": "ipython3",
   "version": "3.10.12"
  }
 },
 "nbformat": 4,
 "nbformat_minor": 4
}
